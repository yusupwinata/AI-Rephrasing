{
 "cells": [
  {
   "cell_type": "markdown",
   "id": "01a94db7-1e34-4473-a11a-0c1dd2c9a73b",
   "metadata": {},
   "source": [
    "# Initial Setup"
   ]
  },
  {
   "cell_type": "code",
   "execution_count": 1,
   "id": "a2de0cd4-ba05-409c-b867-088612f68293",
   "metadata": {},
   "outputs": [],
   "source": [
    "import os\n",
    "import re\n",
    "import gradio as gr\n",
    "import ollama\n",
    "from openai import OpenAI\n",
    "from dotenv import load_dotenv"
   ]
  },
  {
   "cell_type": "code",
   "execution_count": null,
   "id": "855b74fc-ff06-4ecb-978a-b219be418bbf",
   "metadata": {},
   "outputs": [],
   "source": [
    "!ollama pull llama3.2"
   ]
  },
  {
   "cell_type": "code",
   "execution_count": null,
   "id": "96f8c892-334c-4d83-a8e4-99f90481ccb9",
   "metadata": {
    "scrolled": true
   },
   "outputs": [],
   "source": [
    "!ollama pull deepseek-r1:latest"
   ]
  },
  {
   "cell_type": "code",
   "execution_count": 4,
   "id": "75bb6fd8-f532-400e-87f1-a4abcfac38cf",
   "metadata": {},
   "outputs": [],
   "source": [
    "# Online Bot\n",
    "load_dotenv(override=True)\n",
    "OPENAI_API_KEY = os.getenv(\"OPENAI_API_KEY\", \"type-your-api-key-here\")\n",
    "GOOLE_API_KEY = os.getenv(\"GOOGLE_API_KEY\", \"type-your-api-key-here\")\n",
    "GOOGLE_BASE_URL = \"https://generativelanguage.googleapis.com/v1beta/openai/\"\n",
    "\n",
    "gpt_api = OpenAI()\n",
    "gemini_api = OpenAI(api_key=GOOLE_API_KEY, base_url=GOOGLE_BASE_URL)\n",
    "\n",
    "gpt_model = \"gpt-4o-mini\"\n",
    "gemini_model = \"gemini-2.0-flash\""
   ]
  },
  {
   "cell_type": "code",
   "execution_count": 5,
   "id": "603be178-171b-437b-9705-db57b8e880c3",
   "metadata": {},
   "outputs": [],
   "source": [
    "# Local Bot\n",
    "OLLAMA_API_KEY = \"ollama\"\n",
    "OLLAMA_BASE_URL = \"http://localhost:11434/v1\"\n",
    "\n",
    "llama_api = OpenAI(api_key=OLLAMA_API_KEY, base_url=OLLAMA_BASE_URL)\n",
    "deepseek_api = OpenAI(api_key=OLLAMA_API_KEY, base_url=OLLAMA_BASE_URL)\n",
    "\n",
    "llama_model = \"llama3.2\"\n",
    "deepseek_model = \"deepseek-r1:latest\""
   ]
  },
  {
   "cell_type": "markdown",
   "id": "bfda73db-3eac-48f5-8088-aceb42581b4b",
   "metadata": {},
   "source": [
    "# Prompting"
   ]
  },
  {
   "cell_type": "code",
   "execution_count": 6,
   "id": "51b81d89-09b2-4e26-bc46-b20a1cebe411",
   "metadata": {},
   "outputs": [],
   "source": [
    "system_prompt = \"You are an assistant with excellent writing skills. \\\n",
    "You are able to paraphrase text according to user requests. \\\n",
    "Respond in markdown.\"\n",
    "\n",
    "def generate_user_prompt(text: str, tone: str) -> str:\n",
    "    user_prompt = f\"Paraphrase this text to make it more {tone.lower()}.\\n\"\n",
    "    user_prompt += f\"{text}\\n\"\n",
    "    user_prompt += f\"Just paraphrase the text without adding any comments or feedbacks.\"\n",
    "    return user_prompt\n",
    "\n",
    "def generate_messages(text: str, tone: str, system_prompt: str=system_prompt) -> list:\n",
    "    return [\n",
    "        {\"role\":\"system\", \"content\":system_prompt},\n",
    "        {\"role\":\"user\", \"content\":generate_user_prompt(text, tone)}\n",
    "    ]\n",
    "\n",
    "def set_bot(model_name: str) -> tuple:\n",
    "    if model_name == \"Llama\":\n",
    "        api = llama_api\n",
    "        model = llama_model\n",
    "    elif model_name == \"Deep Seek\":\n",
    "        api = deepseek_api\n",
    "        model = deepseek_model\n",
    "    elif model_name == \"GPT\":\n",
    "        api = gpt_api\n",
    "        model = gpt_model\n",
    "    elif model_name == \"Gemini\":\n",
    "        api = gemini_api\n",
    "        model = gemini_model\n",
    "    else:\n",
    "        raise ValueError(f\"Unknown model: {model_name}\")\n",
    "    return api, model\n",
    "\n",
    "def extract_final_paraphrase(text: str) -> str:\n",
    "    \"\"\"Remove non-markdown elements\"\"\"\n",
    "    match = re.search(r'</think>\\s*\\n*(.*)', text, re.DOTALL)\n",
    "    if match:\n",
    "        return match.group(1).strip()\n",
    "    return text.strip()\n",
    "\n",
    "def stream_paraphrase(messages: str, tone: str, model_name: str):\n",
    "    api, model = set_bot(model_name)\n",
    "    messages = generate_messages(messages, tone)\n",
    "\n",
    "    if model_name != \"Deep Seek\":\n",
    "        stream = api.chat.completions.create(\n",
    "            model=model,\n",
    "            messages=messages,\n",
    "            stream=True\n",
    "        )\n",
    "        result = \"\"\n",
    "        for chunk in stream:\n",
    "            result += chunk.choices[0].delta.content or \"\"\n",
    "            yield result\n",
    "    else:\n",
    "        completion = api.chat.completions.create(\n",
    "            model=model,\n",
    "            messages=messages\n",
    "        )\n",
    "        result = completion.choices[0].message.content\n",
    "        result = extract_final_paraphrase(result)\n",
    "        yield result"
   ]
  },
  {
   "cell_type": "markdown",
   "id": "d1526327-a5ef-4173-8518-86eadbb8f6e3",
   "metadata": {},
   "source": [
    "# UI"
   ]
  },
  {
   "cell_type": "code",
   "execution_count": 7,
   "id": "5b05f241-df16-42ff-972f-b0f27980810a",
   "metadata": {},
   "outputs": [
    {
     "name": "stdout",
     "output_type": "stream",
     "text": [
      "* Running on local URL:  http://127.0.0.1:7860\n",
      "\n",
      "To create a public link, set `share=True` in `launch()`.\n"
     ]
    },
    {
     "data": {
      "text/html": [
       "<div><iframe src=\"http://127.0.0.1:7860/\" width=\"100%\" height=\"500\" allow=\"autoplay; camera; microphone; clipboard-read; clipboard-write;\" frameborder=\"0\" allowfullscreen></iframe></div>"
      ],
      "text/plain": [
       "<IPython.core.display.HTML object>"
      ]
     },
     "metadata": {},
     "output_type": "display_data"
    },
    {
     "data": {
      "text/plain": []
     },
     "execution_count": 7,
     "metadata": {},
     "output_type": "execute_result"
    }
   ],
   "source": [
    "view = gr.Interface(\n",
    "    fn=stream_paraphrase,\n",
    "    inputs=[\n",
    "        gr.Textbox(label=\"Input your text\", lines=8),\n",
    "        gr.Dropdown(choices=[\"Professional\", \"Academic\", \"Casual\"], label=\"Select tone\", value=\"Professional\"),\n",
    "        gr.Dropdown(choices=[\"Llama\", \"Deep Seek\", \"GPT\", \"Gemini\"], label=\"Select model\", value=\"Llama\")\n",
    "    ],\n",
    "    outputs=[gr.Markdown()],\n",
    "    flagging_mode=\"never\"\n",
    ")\n",
    "\n",
    "view.launch()"
   ]
  },
  {
   "cell_type": "code",
   "execution_count": null,
   "id": "2acbf095-df6a-4234-b90e-ab7c02f58418",
   "metadata": {},
   "outputs": [],
   "source": []
  }
 ],
 "metadata": {
  "kernelspec": {
   "display_name": "llms",
   "language": "python",
   "name": "llms"
  },
  "language_info": {
   "codemirror_mode": {
    "name": "ipython",
    "version": 3
   },
   "file_extension": ".py",
   "mimetype": "text/x-python",
   "name": "python",
   "nbconvert_exporter": "python",
   "pygments_lexer": "ipython3",
   "version": "3.11.12"
  }
 },
 "nbformat": 4,
 "nbformat_minor": 5
}
